{
  "cells": [
    {
      "cell_type": "markdown",
      "metadata": {
        "id": "view-in-github",
        "colab_type": "text"
      },
      "source": [
        "<a href=\"https://colab.research.google.com/github/VictoireHA/computational-mechanics/blob/summer22/HW_04.ipynb\" target=\"_parent\"><img src=\"https://colab.research.google.com/assets/colab-badge.svg\" alt=\"Open In Colab\"/></a>"
      ]
    },
    {
      "cell_type": "markdown",
      "id": "af56bc2e",
      "metadata": {
        "id": "af56bc2e"
      },
      "source": [
        "# Homework\n",
        "## Problems [Part 1](./01_Linear-Algebra.md)\n",
        "\n",
        "1. Consider 4 masses connected in series to 4 springs with K=1,000 N/m. What are the final positions of the masses i.e. when acceleration is 0? \n",
        "\n",
        "![Springs-masses](../images/mass_springs.png)\n",
        "\n",
        "The masses haves the following amounts, $m_1=1,~m_2=2,~m_3=3,~and~m_4=4 kg.$ Using a FBD for each mass:\n",
        "\n",
        "$m_{1}g+k(x_{2}-x_{1})-kx_{1}=0$\n",
        "\n",
        "$m_{2}g+k(x_{3}-x_{2})-k(x_{2}-x_{1})=0$\n",
        "\n",
        "$m_{3}g+k(x_{4}-x_{3})-k(x_{3}-x_{2})=0$\n",
        "\n",
        "$m_{4}g-k(x_{4}-x_{3})=0$\n",
        "\n",
        "in matrix form:\n",
        "\n",
        "$\\left[ \\begin{array}{cccc}\n",
        "2k & -k & 0 & 0 \\\\\n",
        "-k & 2k & -k & 0 \\\\\n",
        "0 & -k & 2k & -k \\\\\n",
        "0 & 0 & -k & k \\end{array} \\right]\n",
        "\\left[ \\begin{array}{c}\n",
        "x_{1} \\\\\n",
        "x_{2} \\\\\n",
        "x_{3} \\\\\n",
        "x_{4} \\end{array} \\right]=\n",
        "\\left[ \\begin{array}{c}\n",
        "m_{1}g \\\\\n",
        "m_{2}g \\\\\n",
        "m_{3}g \\\\\n",
        "m_{4}g \\end{array} \\right]$"
      ]
    },
    {
      "cell_type": "code",
      "execution_count": null,
      "metadata": {
        "id": "57445b41",
        "colab": {
          "base_uri": "https://localhost:8080/"
        },
        "outputId": "9ac8156b-dae1-4c16-b069-6f6a491982d9"
      },
      "outputs": [
        {
          "output_type": "stream",
          "name": "stdout",
          "text": [
            "[2000.0 -1000.0   0.0   0.0] * [0.01429] = [ 10.0]\n",
            "[-1000.0 2000.0 -1000.0   0.0] * [0.01857] = [ 20.0]\n",
            "[  0.0 -1000.0 2000.0 -1000.0] * [0.00286] = [ 30.0]\n",
            "[  0.0   0.0 -1000.0 -1000.0] * [-0.04286] = [ 40.0]\n"
          ]
        }
      ],
      "source": [
        "import numpy as np\n",
        "A=np.array([[2000,-1000,0,0],[-1000,2000,-1000,0],[0,-1000,2000,-1000],[0,0,-1000,-1000]])\n",
        "b=np.array([10,20,30,40])\n",
        "x=np.linalg.solve(A,b)\n",
        "for i in range(0,4):\n",
        "    print('[{:5.1f} {:5.1f} {:5.1f} {:5.1f}] {} [{:3.5f}] {} [{:5.1f}]'.format(*A[i],'*',x[i],'=',b[i]))"
      ],
      "id": "57445b41"
    },
    {
      "cell_type": "markdown",
      "id": "497ac11f",
      "metadata": {
        "id": "497ac11f"
      },
      "source": [
        "![HVAC diagram showing the flow rates and connections between floors](../images/hvac.png)\n",
        "\n",
        "2. In the figure above you have an idealized Heating, Ventilation and Air conditioning (HVAC) system. In the current configuration, the three-room building is being cooled off by $15^oC$ air fed into the building at 0.1 kg/s. Our goal is to determine the steady-state temperatures of the rooms given the following information\n",
        "\n",
        "* $\\dot{m}_1=0.1~kg/s$\n",
        "* $\\dot{m}_2=0.12~kg/s$\n",
        "* $\\dot{m}_3=0.12~kg/s$\n",
        "* $\\dot{m}_4=0.1~kg/s$\n",
        "* $\\dot{m}_5=0.02~kg/s$\n",
        "* $\\dot{m}_6=0.02~kg/s$\n",
        "* $C_p=1000~\\frac{J}{kg-K}$\n",
        "* $\\dot{Q}_{in} = 300~W$\n",
        "* $T_{in} = 12^{o} C$\n",
        "\n",
        "The energy-balance equations for rooms 1-3 create three equations:\n",
        "\n",
        "1. $\\dot{m}_1 C_p T_{in}+\\dot{Q}_{in}-\\dot{m}_2 C_p T_{1}+\\dot{m}_6 C_p T_{2} = 0$\n",
        "\n",
        "2. $\\dot{m}_2 C_p T_{1}+\\dot{Q}_{in}+\\dot{m}_5 C_p T_{3}-\\dot{m}_3 C_p T_{2}-\\dot{m}_6 C_p T_{2} = 0$\n",
        "\n",
        "3. $\\dot{m}_3 C_p T_{2}+\\dot{Q}_{in}-\\dot{m}_5 C_p T_{3}-\\dot{m}_4 C_p T_{3} = 0$\n",
        "\n",
        "Identify the unknown variables and constants to create a linear algebra problem in the form of $\\mathbf{Ax}=\\mathbf{b}$.\n",
        "\n",
        "a. Create the matrix $\\mathbf{A}$\n",
        "\n",
        "b. Create the known vector $\\mathbf{b}$\n",
        "\n",
        "c. Solve for the unknown variables, $\\mathbf{x}$\n",
        "\n",
        "d. What are the warmest and coldest rooms? What are their temperatures?"
      ]
    },
    {
      "cell_type": "markdown",
      "source": [
        "**a.  A=[[m2*cp,-m6*cp,0],[-m2*cp,(m3+m6)*cp,-m5*cp],[0,-m3*cp,(m4+m5)*cp]]**\n",
        "\n",
        "\n",
        "**b.  B=[Qin+(m1*cp*Tin),Qin,Qin]**"
      ],
      "metadata": {
        "id": "AFJpomAa2D5O"
      },
      "id": "AFJpomAa2D5O"
    },
    {
      "cell_type": "code",
      "execution_count": null,
      "id": "b5b9ae6d",
      "metadata": {
        "id": "b5b9ae6d",
        "colab": {
          "base_uri": "https://localhost:8080/"
        },
        "outputId": "4dac3fd4-fa7b-41de-f2e3-c8e4d1c838c4"
      },
      "outputs": [
        {
          "output_type": "stream",
          "name": "stdout",
          "text": [
            "[120.0 -20.0   0.0] * [15.58333] = [1500.0]\n",
            "[-120.0 140.0 -20.0] * [18.50000] = [300.0]\n",
            "[  0.0 -120.0 120.0] * [21.00000] = [300.0]\n"
          ]
        }
      ],
      "source": [
        "import numpy as np\n",
        "\n",
        "m1=0.1\n",
        "m2=0.12\n",
        "m3=0.12\n",
        "m4=0.1\n",
        "m5=0.02\n",
        "m6=0.02\n",
        "cp=1000.0\n",
        "Qin=300.0\n",
        "Tin=12.0\n",
        "\n",
        "A=np.array([[m2*cp,-m6*cp,0],[-m2*cp,(m3+m6)*cp,-m5*cp],[0,-m3*cp,(m4+m5)*cp]])\n",
        "b=np.array([Qin+(m1*cp*Tin),Qin,Qin])\n",
        "x=np.linalg.solve(A,b)\n",
        "for i in range(0,3):\n",
        "    print('[{:5.1f} {:5.1f} {:5.1f}] {} [{:3.5f}] {} [{:5.1f}]'.format(*A[i],'*',x[i],'=',b[i]))"
      ]
    },
    {
      "cell_type": "markdown",
      "source": [
        "**d.**\n",
        "**T1-Coolest**\n",
        "\n",
        "**T3-Warmest**"
      ],
      "metadata": {
        "id": "Fg1MOEwT3v0-"
      },
      "id": "Fg1MOEwT3v0-"
    },
    {
      "cell_type": "markdown",
      "id": "cab4ac47",
      "metadata": {
        "id": "cab4ac47"
      },
      "source": [
        "3. The [Hilbert Matrix](https://en.wikipedia.org/wiki/Hilbert_matrix) has a high condition number and as the matrix increases dimensions, the condition number increases. Find the condition number of a \n",
        "\n",
        "a. $1 \\times 1$ Hilbert matrix\n",
        "\n",
        "b. $5 \\times 5$ Hilbert matrix\n",
        "\n",
        "c. $10 \\times 10$ Hilbert matrix\n",
        "\n",
        "d. $15 \\times 15$ Hilbert matrix\n",
        "\n",
        "e. $20 \\times 20$ Hilbert matrix\n",
        "\n",
        "If the accuracy of each matrix element is $\\approx 10^{-16}$, what is the expected rounding error in the solution $\\mathbf{Ax} = \\mathbf{b}$, where $\\mathbf{A}$ is the Hilbert matrix."
      ]
    },
    {
      "cell_type": "code",
      "execution_count": null,
      "id": "c933210e",
      "metadata": {
        "id": "c933210e"
      },
      "outputs": [],
      "source": [
        ""
      ]
    },
    {
      "cell_type": "markdown",
      "id": "162b7f8b",
      "metadata": {
        "id": "162b7f8b"
      },
      "source": [
        "## Problems [Part 2](./02_Gauss_elimination.md)\n",
        "\n",
        "1. 4 masses are connected in series to 4 springs with K=100N/m. What are the final positions of the masses? \n",
        "\n",
        "![Springs-masses](../images/mass_springs.png)\n",
        "\n",
        "The masses haves the following amounts, 1, 2, 3, and 4 kg for masses 1-4. Using a FBD for each mass:\n",
        "\n",
        "$m_{1}g+k(x_{2}-x_{1})-kx_{1}=0$\n",
        "\n",
        "$m_{2}g+k(x_{3}-x_{2})-k(x_{2}-x_{1})=0$\n",
        "\n",
        "$m_{3}g+k(x_{4}-x_{3})-k(x_{3}-x_{2})=0$\n",
        "\n",
        "$m_{4}g-k(x_{4}-x_{3})=0$\n",
        "\n",
        "in matrix form K=100 N/m:\n",
        "\n",
        "$\\left[ \\begin{array}{cccc}\n",
        "2k & -k & 0 & 0 \\\\\n",
        "-k & 2k & -k & 0 \\\\\n",
        "0 & -k & 2k & -k \\\\\n",
        "0 & 0 & -k & k \\end{array} \\right]\n",
        "\\left[ \\begin{array}{c}\n",
        "x_{1} \\\\\n",
        "x_{2} \\\\\n",
        "x_{3} \\\\\n",
        "x_{4} \\end{array} \\right]=\n",
        "\\left[ \\begin{array}{c}\n",
        "m_{1}g \\\\\n",
        "m_{2}g \\\\\n",
        "m_{3}g \\\\\n",
        "m_{4}g \\end{array} \\right]$"
      ]
    },
    {
      "cell_type": "code",
      "execution_count": null,
      "id": "69068a82",
      "metadata": {
        "id": "69068a82"
      },
      "outputs": [],
      "source": [
        ""
      ]
    },
    {
      "cell_type": "markdown",
      "id": "f60b7666",
      "metadata": {
        "id": "f60b7666"
      },
      "source": [
        "![Triangular truss](../images/truss.png)\n",
        "\n",
        "For problems __2-3__, consider the simple 3-element triangular truss, shown above, with a point load applied at the tip. The goal is to understand what tension is in the horizontal element, $P_1$. In problem __2__, the applied force is verical $(\\theta=0)$ and in problem __3__ the applied force varies in angle $(\\theta \\neq 0)$. \n",
        "\n",
        "2. In the truss shown above, calculate the tension in bar 1, $P_1$, when $\\theta=0$. When $\\theta=0$, the $\\sum F=0$ at each corner creates 3 equations and 3 unknowns as such (here, you reduce the number of equations with symmetry, $P_2=P_3,~R_2=R_3,~and~R_1=0$ ). \n",
        "\n",
        "$\\left[ \\begin{array}{ccc}\n",
        "1 & \\cos\\alpha & 0 \\\\\n",
        "0 & -2\\cos\\beta/2 & 0 \\\\\n",
        "0 & \\sin\\alpha &  1 \\\\\n",
        " \\end{array} \\right]\n",
        "\\left[ \\begin{array}{c}\n",
        "P_{1} \\\\\n",
        "P_{2} \\\\\n",
        "R_{2} \\end{array} \\right]=\n",
        "\\left[ \\begin{array}{c}\n",
        "0 \\\\\n",
        "F \\\\\n",
        "0 \\end{array} \\right]$\n",
        "\n",
        "a. Create the system of equations, $\\mathbf{Ax}=\\mathbf{b}$, when $\\alpha=35^o$, $\\beta=40^o$, and $F=1~kN$. Use __Gauss elimination__ to solve for $P_1,~P_2,~and~R_2$. What is the resulting augmented matrix, $\\mathbf{A|y}$ after Gauss elimination?\n",
        "\n",
        "b. Solve for the $\\mathbf{LU}$ decomposition of $\\mathbf{A}$. \n",
        "\n",
        "c. Use the $\\mathbf{LU}$ solution to solve for the tension in bar 1 $(P_1)$ every 10 N values of force, F, between 100 N and 1100 N. Plot $P_1~vs~F$."
      ]
    },
    {
      "cell_type": "code",
      "execution_count": null,
      "id": "c0117e5c",
      "metadata": {
        "id": "c0117e5c"
      },
      "outputs": [],
      "source": [
        "def GaussNaive(A,y):\n",
        "    '''GaussNaive: naive Gauss elimination\n",
        "    x = GaussNaive(A,b): Gauss elimination without pivoting.\n",
        "    solution method requires floating point numbers, \n",
        "    as such the dtype is changed to float\n",
        "    \n",
        "    Arguments:\n",
        "    ----------\n",
        "    A = coefficient matrix\n",
        "    y = right hand side vector\n",
        "    returns:\n",
        "    ---------\n",
        "    x = solution vector\n",
        "    Aug = augmented matrix (used for back substitution)'''\n",
        "    [m,n] = np.shape(A)\n",
        "    Aug = np.block([A,y.reshape(n,1)])\n",
        "    Aug = Aug.astype(float)\n",
        "    if m!=n: error('Matrix A must be square')\n",
        "    nb = n+1\n",
        "    # Gauss Elimination \n",
        "    for k in range(0,n-1):\n",
        "        for i in range(k+1,n):\n",
        "            if Aug[i,k] != 0.0:\n",
        "                factor = Aug[i,k]/Aug[k,k]\n",
        "                Aug[i,:] = Aug[i,:] - factor*Aug[k,:]\n",
        "    # Back substitution\n",
        "    x=np.zeros(n)\n",
        "    for k in range(n-1,-1,-1):\n",
        "        x[k] = (Aug[k,-1] - Aug[k,k+1:n]@x[k+1:n])/Aug[k,k]\n",
        "    return x,Aug"
      ]
    },
    {
      "cell_type": "code",
      "source": [
        "import math\n",
        "\n",
        "sin35=math.sin(math.radians(35))\n",
        "cos35=math.sin(math.radians(35))\n",
        "cos20=math.sin(math.radians(20))\n",
        "\n",
        "A=np.array([[1,cos35, 0],[0,(-2*cos20),0],[ 0,sin35,1]])\n",
        "y=np.array([0,1000,0])\n",
        "\n",
        "x, Aug = GaussNaive(A,y)\n",
        "\n",
        "print('x=  \\t\\tAug=')\n",
        "for i in range(len(x)):\n",
        "    print('{:.2f}\\t\\t'.format(x[i]),Aug[i])"
      ],
      "metadata": {
        "colab": {
          "base_uri": "https://localhost:8080/"
        },
        "id": "aWMTsmHiBD8D",
        "outputId": "08087f1f-4fd5-4aa0-d816-05d8c440ddb6"
      },
      "id": "aWMTsmHiBD8D",
      "execution_count": null,
      "outputs": [
        {
          "output_type": "stream",
          "name": "stdout",
          "text": [
            "x=  \t\tAug=\n",
            "838.51\t\t [1.         0.57357644 0.         0.        ]\n",
            "-1461.90\t\t [ 0.00000000e+00 -6.84040287e-01  0.00000000e+00  1.00000000e+03]\n",
            "838.51\t\t [  0.           0.           1.         838.51265422]\n"
          ]
        }
      ]
    },
    {
      "cell_type": "markdown",
      "id": "14311c17",
      "metadata": {
        "id": "14311c17"
      },
      "source": [
        "3. Using the same truss as shown above, let's calculate the tension in bar 1, $P_1$, when $\\theta=[0...90^o]$ and $F=[100...1100]~kN$. When $\\theta\\neq 0$, the resulting 6 equations and 6 unknowns are given in the following matrix\n",
        "\n",
        "$\\left[ \\begin{array}{ccc}\n",
        "0 & \\sin\\alpha & 0 & 1 & 0 & 0 \\\\\n",
        "1 & \\cos\\alpha & 0 & 0 & 1 & 0 \\\\\n",
        "0 & \\cos\\beta/2 & \\cos\\beta/2 & 0 & 0 & 0 \\\\\n",
        "0 & -\\sin\\beta/2 & \\sin\\beta/2 & 0 & 0 & 0 \\\\\n",
        "-1 & 0 & \\cos\\alpha & 0 & 0 & 0 \\\\\n",
        "0 & 0 & \\sin\\alpha & 0 & 0 & 1 \\\\\n",
        " \\end{array} \\right]\n",
        "\\left[ \\begin{array}{c}\n",
        "P_{1} \\\\\n",
        "P_{2} \\\\\n",
        "P_{3} \\\\\n",
        "R_{1} \\\\\n",
        "R_{2} \\\\\n",
        "R_{3}\\end{array} \\right]=\n",
        "\\left[ \\begin{array}{c}\n",
        "0 \\\\\n",
        "0 \\\\\n",
        "F\\cos\\theta \\\\\n",
        "-F\\sin\\theta \\\\\n",
        "0 \\\\\n",
        "0 \\end{array} \\right]$\n",
        "\n",
        "a. Create the system of equations, $\\mathbf{Ax}=\\mathbf{b}$, when $\\alpha=35^o$, $\\beta=40^o$, $\\theta=45^o=\\pi/4$, and $F=1~kN$. Use __Gauss elimination__ to solve for $P_1,~P_2,~P_3,~R_1,~R_2,~and~R_3$. What is the resulting augmented matrix, $\\mathbf{A|y}$ after Gauss elimination? _Hint: do you see a problem with the order of the equations? How can you __pivot__ to fix it?_\n",
        "\n",
        "b. Solve for the $\\mathbf{PLU}$ decomposition of $\\mathbf{A}$. \n",
        "\n",
        "c. Use the $\\mathbf{PLU}$ solution to solve for the tension in bar 1 $(P_1)$ every 10 N values of force, F, between 100 N and 1100 N. Plot $P_1~vs~F$."
      ]
    },
    {
      "cell_type": "code",
      "execution_count": null,
      "id": "8c3fca1b",
      "metadata": {
        "id": "8c3fca1b"
      },
      "outputs": [],
      "source": [
        ""
      ]
    },
    {
      "cell_type": "markdown",
      "id": "d6c92411",
      "metadata": {
        "id": "d6c92411"
      },
      "source": [
        "## Problems [Part 3](./03_Linear-regression-algebra.md)\n",
        "\n",
        "<img\n",
        "src=\"https://i.imgur.com/LoBbHaM.png\" alt=\"prony series diagram\"\n",
        "style=\"width: 300px;\"/> <img src=\"https://i.imgur.com/8i140Zu.png\" alt\n",
        "= \"stress relax data\" style=\"width: 400px;\"/> \n",
        "\n",
        "Viscoelastic Prony series model and stress-vs-time relaxation curve of wheat kernels [[3]](https://www.cerealsgrains.org/publications/plexus/cfw/pastissues/2013/Documents/CFW-58-3-0139.pdf). Stress relaxation curve of a wheat kernel from regressed equation data that illustrate where to locate relaxation times (vertical dotted lines) and stresses (horizontal black marks). $\\sigma$ = stress; t = time.\n",
        "\n",
        "2. [Viscoelasticity](https://en.wikipedia.org/wiki/Viscoelasticity) is a property of materials that exhibit stiffness, but also tend to flow slowly. One example is [Silly Putty](https://en.wikipedia.org/wiki/Silly_Putty), when you throw a lump it bounces, but if you leave it on a table it _creeps_, slowly flowing downwards. In the stress-vs-time plot above, a wheat kernel was placed under constant strain and the stress was recorded. In a purely elastic material, the stress would be constant. In a purely viscous material, the stress would decay to 0 MPa. \n",
        "\n",
        "Here, you have a viscoelastic material, so there is some residual elastic stress as $t\\rightarrow \\infty$. The researchers used a 4-part [Prony series](https://en.wikipedia.org/wiki/Prony%27s_method) to model viscoelasticity. The function they fit was\n",
        "\n",
        "$\\sigma(t) = a_1 e^{-t/1.78}+a_2 e^{-t/11}+a_3e^{-t/53}+a_4e^{-t/411}+a_5$\n",
        "\n",
        "a. Load the data from the graph shown above in the file `../data/stress_relax.dat`. \n",
        "\n",
        "b. Create a $\\mathbf{Z}$-matrix to perform the least-squares regression for the given Prony series equation $\\mathbf{y} = \\mathbf{Za}$.\n",
        "\n",
        "c. Solve for the constants, $a_1,~a_2,~a_3,~a_4~,a_5$\n",
        "\n",
        "d. Plot the best-fit function and the data from `../data/stress_relax.dat` _Use at least 50 points in time to get a smooth best-fit line._"
      ]
    },
    {
      "cell_type": "code",
      "execution_count": null,
      "id": "bbf34d9e",
      "metadata": {
        "id": "bbf34d9e",
        "colab": {
          "base_uri": "https://localhost:8080/",
          "height": 321
        },
        "outputId": "3123dd2a-b6b6-41f6-ddf8-5073c9b08c55"
      },
      "outputs": [
        {
          "output_type": "execute_result",
          "data": {
            "text/plain": [
              "Text(0, 0.5, 'Stress')"
            ]
          },
          "metadata": {},
          "execution_count": 5
        },
        {
          "output_type": "display_data",
          "data": {
            "text/plain": [
              "<Figure size 432x288 with 1 Axes>"
            ],
            "image/png": "[encoded data removed]"
          },
          "metadata": {}
        }
      ],
      "source": [
        "import numpy as np\n",
        "import pandas as pd\n",
        "import matplotlib.pyplot as plt\n",
        "plt.style.use('fivethirtyeight')\n",
        "\n",
        "xy_data = np.loadtxt('stress_relax.dat',delimiter=',')\n",
        "x=xy_data[:,0];\n",
        "y=xy_data[:,1];\n",
        "plt.plot(x,y,'o')\n",
        "plt.xlabel('Time')\n",
        "plt.ylabel('Stress')"
      ]
    },
    {
      "cell_type": "code",
      "source": [
        "import math\n",
        "\n",
        "aa=round(math.exp(-1/1.78))\n",
        "print(aa)\n",
        "#Z=np.block([[round.astype(float))],[round(math.exp(-x/11).astype(float))],[round(math.exp(-x/53).astype(float))],[round(math.exp(-x/411).astype(float))],[1]])\n",
        "#Z"
      ],
      "metadata": {
        "colab": {
          "base_uri": "https://localhost:8080/"
        },
        "id": "zGp-4IbQQp1e",
        "outputId": "0df5cebf-2ac7-478f-8f73-1a62835a6bfe"
      },
      "id": "zGp-4IbQQp1e",
      "execution_count": null,
      "outputs": [
        {
          "output_type": "stream",
          "name": "stdout",
          "text": [
            "1\n"
          ]
        }
      ]
    },
    {
      "cell_type": "markdown",
      "id": "5df945da",
      "metadata": {
        "id": "5df945da"
      },
      "source": [
        "3. Load the '../data/primary-energy-consumption-by-region.csv' that has the energy consumption of different regions of the world from 1965 until 2018 [Our world in Data](https://ourworldindata.org/energy). \n",
        "You are going to compare the energy consumption of the United States to all of Europe. Load the data into a pandas dataframe. *Note: you can get certain rows of the data frame by specifying what you're looking for e.g. \n",
        "`EUR = dataframe[dataframe['Entity']=='Europe']` will give us all the rows from Europe's energy consumption.*\n",
        "\n",
        "a. Use a piecewise least-squares regression to find a function for the energy consumption as a function of year\n",
        "\n",
        "energy consumed = $f(t) = At+B+C(t-1970)H(t-1970)$\n",
        "\n",
        "c. What is your prediction for US energy use in 2025? How about European energy use in 2025?"
      ]
    },
    {
      "cell_type": "code",
      "execution_count": null,
      "id": "b7c40221",
      "metadata": {
        "id": "b7c40221"
      },
      "outputs": [],
      "source": [
        ""
      ]
    }
  ],
  "metadata": {
    "jupytext": {
      "formats": "notebooks//ipynb,md:myst"
    },
    "kernelspec": {
      "display_name": "Python 3 (ipykernel)",
      "language": "python",
      "name": "python3"
    },
    "language_info": {
      "codemirror_mode": {
        "name": "ipython",
        "version": 3
      },
      "file_extension": ".py",
      "mimetype": "text/x-python",
      "name": "python",
      "nbconvert_exporter": "python",
      "pygments_lexer": "ipython3",
      "version": "3.9.6"
    },
    "colab": {
      "name": "HW_04.ipynb",
      "provenance": [],
      "include_colab_link": true
    }
  },
  "nbformat": 4,
  "nbformat_minor": 5
}