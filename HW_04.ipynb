{
  "cells": [
    {
      "cell_type": "markdown",
      "metadata": {
        "id": "view-in-github",
        "colab_type": "text"
      },
      "source": [
        "<a href=\"https://colab.research.google.com/github/VictoireHA/computational-mechanics/blob/master/HW_04.ipynb\" target=\"_parent\"><img src=\"https://colab.research.google.com/assets/colab-badge.svg\" alt=\"Open In Colab\"/></a>"
      ]
    },
    {
      "cell_type": "markdown",
      "id": "af56bc2e",
      "metadata": {
        "id": "af56bc2e"
      },
      "source": [
        "# Homework\n",
        "## Problems [Part 1](./01_Linear-Algebra.md)\n",
        "\n",
        "1. Consider 4 masses connected in series to 4 springs with K=1,000 N/m. What are the final positions of the masses i.e. when acceleration is 0? \n",
        "\n",
        "![Springs-masses](../images/mass_springs.png)\n",
        "\n",
        "The masses haves the following amounts, $m_1=1,~m_2=2,~m_3=3,~and~m_4=4 kg.$ Using a FBD for each mass:\n",
        "\n",
        "$m_{1}g+k(x_{2}-x_{1})-kx_{1}=0$\n",
        "\n",
        "$m_{2}g+k(x_{3}-x_{2})-k(x_{2}-x_{1})=0$\n",
        "\n",
        "$m_{3}g+k(x_{4}-x_{3})-k(x_{3}-x_{2})=0$\n",
        "\n",
        "$m_{4}g-k(x_{4}-x_{3})=0$\n",
        "\n",
        "in matrix form:\n",
        "\n",
        "$\\left[ \\begin{array}{cccc}\n",
        "2k & -k & 0 & 0 \\\\\n",
        "-k & 2k & -k & 0 \\\\\n",
        "0 & -k & 2k & -k \\\\\n",
        "0 & 0 & -k & k \\end{array} \\right]\n",
        "\\left[ \\begin{array}{c}\n",
        "x_{1} \\\\\n",
        "x_{2} \\\\\n",
        "x_{3} \\\\\n",
        "x_{4} \\end{array} \\right]=\n",
        "\\left[ \\begin{array}{c}\n",
        "m_{1}g \\\\\n",
        "m_{2}g \\\\\n",
        "m_{3}g \\\\\n",
        "m_{4}g \\end{array} \\right]$"
      ]
    },
    {
      "cell_type": "code",
      "execution_count": 2,
      "metadata": {
        "id": "57445b41",
        "colab": {
          "base_uri": "https://localhost:8080/"
        },
        "outputId": "1e2b85ba-472b-4c8d-b5b3-88a9142888c9"
      },
      "outputs": [
        {
          "output_type": "stream",
          "name": "stdout",
          "text": [
            "[2000.0 -1000.0   0.0   0.0] * [0.01429] = [ 10.0]\n",
            "[-1000.0 2000.0 -1000.0   0.0] * [0.01857] = [ 20.0]\n",
            "[  0.0 -1000.0 2000.0 -1000.0] * [0.00286] = [ 30.0]\n",
            "[  0.0   0.0 -1000.0 -1000.0] * [-0.04286] = [ 40.0]\n"
          ]
        }
      ],
      "source": [
        "import numpy as np\n",
        "A=np.array([[2000,-1000,0,0],[-1000,2000,-1000,0],[0,-1000,2000,-1000],[0,0,-1000,-1000]])\n",
        "b=np.array([10,20,30,40])\n",
        "x=np.linalg.solve(A,b)\n",
        "for i in range(0,4):\n",
        "    print('[{:5.1f} {:5.1f} {:5.1f} {:5.1f}] {} [{:3.5f}] {} [{:5.1f}]'.format(*A[i],'*',x[i],'=',b[i]))"
      ],
      "id": "57445b41"
    },
    {
      "cell_type": "markdown",
      "id": "497ac11f",
      "metadata": {
        "id": "497ac11f"
      },
      "source": [
        "![HVAC diagram showing the flow rates and connections between floors](../images/hvac.png)\n",
        "\n",
        "2. In the figure above you have an idealized Heating, Ventilation and Air conditioning (HVAC) system. In the current configuration, the three-room building is being cooled off by $15^oC$ air fed into the building at 0.1 kg/s. Our goal is to determine the steady-state temperatures of the rooms given the following information\n",
        "\n",
        "* $\\dot{m}_1=0.1~kg/s$\n",
        "* $\\dot{m}_2=0.12~kg/s$\n",
        "* $\\dot{m}_3=0.12~kg/s$\n",
        "* $\\dot{m}_4=0.1~kg/s$\n",
        "* $\\dot{m}_5=0.02~kg/s$\n",
        "* $\\dot{m}_6=0.02~kg/s$\n",
        "* $C_p=1000~\\frac{J}{kg-K}$\n",
        "* $\\dot{Q}_{in} = 300~W$\n",
        "* $T_{in} = 12^{o} C$\n",
        "\n",
        "The energy-balance equations for rooms 1-3 create three equations:\n",
        "\n",
        "1. $\\dot{m}_1 C_p T_{in}+\\dot{Q}_{in}-\\dot{m}_2 C_p T_{1}+\\dot{m}_6 C_p T_{2} = 0$\n",
        "\n",
        "2. $\\dot{m}_2 C_p T_{1}+\\dot{Q}_{in}+\\dot{m}_5 C_p T_{3}-\\dot{m}_3 C_p T_{2}-\\dot{m}_6 C_p T_{2} = 0$\n",
        "\n",
        "3. $\\dot{m}_3 C_p T_{2}+\\dot{Q}_{in}-\\dot{m}_5 C_p T_{3}-\\dot{m}_4 C_p T_{3} = 0$\n",
        "\n",
        "Identify the unknown variables and constants to create a linear algebra problem in the form of $\\mathbf{Ax}=\\mathbf{b}$.\n",
        "\n",
        "a. Create the matrix $\\mathbf{A}$\n",
        "\n",
        "b. Create the known vector $\\mathbf{b}$\n",
        "\n",
        "c. Solve for the unknown variables, $\\mathbf{x}$\n",
        "\n",
        "d. What are the warmest and coldest rooms? What are their temperatures?"
      ]
    },
    {
      "cell_type": "markdown",
      "source": [
        "**a.  A=[[m2*cp,-m6*cp,0],[-m2*cp,(m3+m6)*cp,-m5*cp],[0,-m3*cp,(m4+m5)*cp]]**\n",
        "\n",
        "\n",
        "**b.  B=[Qin+(m1*cp*Tin),Qin,Qin]**"
      ],
      "metadata": {
        "id": "AFJpomAa2D5O"
      },
      "id": "AFJpomAa2D5O"
    },
    {
      "cell_type": "code",
      "execution_count": 3,
      "id": "b5b9ae6d",
      "metadata": {
        "id": "b5b9ae6d",
        "colab": {
          "base_uri": "https://localhost:8080/"
        },
        "outputId": "ea9e579d-a5a1-425f-8b33-ca5376b52d7e"
      },
      "outputs": [
        {
          "output_type": "stream",
          "name": "stdout",
          "text": [
            "[120.0 -20.0   0.0] * [15.58333] = [1500.0]\n",
            "[-120.0 140.0 -20.0] * [18.50000] = [300.0]\n",
            "[  0.0 -120.0 120.0] * [21.00000] = [300.0]\n"
          ]
        }
      ],
      "source": [
        "import numpy as np\n",
        "\n",
        "m1=0.1\n",
        "m2=0.12\n",
        "m3=0.12\n",
        "m4=0.1\n",
        "m5=0.02\n",
        "m6=0.02\n",
        "cp=1000.0\n",
        "Qin=300.0\n",
        "Tin=12.0\n",
        "\n",
        "A=np.array([[m2*cp,-m6*cp,0],[-m2*cp,(m3+m6)*cp,-m5*cp],[0,-m3*cp,(m4+m5)*cp]])\n",
        "b=np.array([Qin+(m1*cp*Tin),Qin,Qin])\n",
        "x=np.linalg.solve(A,b)\n",
        "for i in range(0,3):\n",
        "    print('[{:5.1f} {:5.1f} {:5.1f}] {} [{:3.5f}] {} [{:5.1f}]'.format(*A[i],'*',x[i],'=',b[i]))"
      ]
    },
    {
      "cell_type": "markdown",
      "source": [
        "d. Answers\n",
        "\n",
        "**T1-Coolest**\n",
        "\n",
        "**T3-Warmest**"
      ],
      "metadata": {
        "id": "Fg1MOEwT3v0-"
      },
      "id": "Fg1MOEwT3v0-"
    },
    {
      "cell_type": "markdown",
      "id": "cab4ac47",
      "metadata": {
        "id": "cab4ac47"
      },
      "source": [
        "3. The [Hilbert Matrix](https://en.wikipedia.org/wiki/Hilbert_matrix) has a high condition number and as the matrix increases dimensions, the condition number increases. Find the condition number of a \n",
        "\n",
        "a. $1 \\times 1$ Hilbert matrix\n",
        "\n",
        "b. $5 \\times 5$ Hilbert matrix\n",
        "\n",
        "c. $10 \\times 10$ Hilbert matrix\n",
        "\n",
        "d. $15 \\times 15$ Hilbert matrix\n",
        "\n",
        "e. $20 \\times 20$ Hilbert matrix\n",
        "\n",
        "If the accuracy of each matrix element is $\\approx 10^{-16}$, what is the expected rounding error in the solution $\\mathbf{Ax} = \\mathbf{b}$, where $\\mathbf{A}$ is the Hilbert matrix."
      ]
    },
    {
      "cell_type": "markdown",
      "source": [
        "a. **1×1  Hilbert matrix**"
      ],
      "metadata": {
        "id": "ChNBEbf7jLXH"
      },
      "id": "ChNBEbf7jLXH"
    },
    {
      "cell_type": "code",
      "execution_count": null,
      "id": "c933210e",
      "metadata": {
        "id": "c933210e",
        "colab": {
          "base_uri": "https://localhost:8080/"
        },
        "outputId": "4f304633-d9a9-4209-ab46-dab7b55de8ac"
      },
      "outputs": [
        {
          "output_type": "stream",
          "name": "stdout",
          "text": [
            "[[1.]]\n",
            "1.000000e+00\n",
            "Expected Rounding Error: 1e-16\n"
          ]
        }
      ],
      "source": [
        "import numpy as np\n",
        "N=1\n",
        "H=np.zeros((N,N))\n",
        "for i in range(0,N):\n",
        "    for j in range(0,N):\n",
        "        H[i,j]=1/(i+j+1)\n",
        "print(H)\n",
        "print('{:e}'.format(np.linalg.cond(H)))\n",
        "print('Expected Rounding Error:',10**(-16))\n"
      ]
    },
    {
      "cell_type": "markdown",
      "source": [
        " b. **5×5  Hilbert matrix**"
      ],
      "metadata": {
        "id": "xA4F8uTJq8R1"
      },
      "id": "xA4F8uTJq8R1"
    },
    {
      "cell_type": "code",
      "source": [
        "import numpy as np\n",
        "N=5\n",
        "H=np.zeros((N,N))\n",
        "for i in range(0,N):\n",
        "    for j in range(0,N):\n",
        "        H[i,j]=1/(i+j+1)\n",
        "print(H)\n",
        "print('{:e}'.format(np.linalg.cond(H)))\n",
        "print('Expected Rounding Error:',10**(-11))"
      ],
      "metadata": {
        "colab": {
          "base_uri": "https://localhost:8080/"
        },
        "id": "mNGpKBSvrAu1",
        "outputId": "bf499ffc-6c30-4bb5-d334-fcaa26f936af"
      },
      "id": "mNGpKBSvrAu1",
      "execution_count": null,
      "outputs": [
        {
          "output_type": "stream",
          "name": "stdout",
          "text": [
            "[[1.         0.5        0.33333333 0.25       0.2       ]\n",
            " [0.5        0.33333333 0.25       0.2        0.16666667]\n",
            " [0.33333333 0.25       0.2        0.16666667 0.14285714]\n",
            " [0.25       0.2        0.16666667 0.14285714 0.125     ]\n",
            " [0.2        0.16666667 0.14285714 0.125      0.11111111]]\n",
            "4.766073e+05\n",
            "Expected Rounding Error: 1e-11\n"
          ]
        }
      ]
    },
    {
      "cell_type": "markdown",
      "source": [
        "c. **10×10  Hilbert matrix**"
      ],
      "metadata": {
        "id": "MRdi7mADrI8U"
      },
      "id": "MRdi7mADrI8U"
    },
    {
      "cell_type": "code",
      "source": [
        "import numpy as np\n",
        "N=10\n",
        "H=np.zeros((N,N))\n",
        "for i in range(0,N):\n",
        "    for j in range(0,N):\n",
        "        H[i,j]=1/(i+j+1)\n",
        "print(H)\n",
        "print('{:e}'.format(np.linalg.cond(H)))\n",
        "print('Expected Rounding Error:',10**(-3))"
      ],
      "metadata": {
        "colab": {
          "base_uri": "https://localhost:8080/"
        },
        "id": "Zt-k3IwNrPlc",
        "outputId": "ecc60136-b9e8-4d6c-a48f-7b2b7e2b39ce"
      },
      "id": "Zt-k3IwNrPlc",
      "execution_count": null,
      "outputs": [
        {
          "output_type": "stream",
          "name": "stdout",
          "text": [
            "[[1.         0.5        0.33333333 0.25       0.2        0.16666667\n",
            "  0.14285714 0.125      0.11111111 0.1       ]\n",
            " [0.5        0.33333333 0.25       0.2        0.16666667 0.14285714\n",
            "  0.125      0.11111111 0.1        0.09090909]\n",
            " [0.33333333 0.25       0.2        0.16666667 0.14285714 0.125\n",
            "  0.11111111 0.1        0.09090909 0.08333333]\n",
            " [0.25       0.2        0.16666667 0.14285714 0.125      0.11111111\n",
            "  0.1        0.09090909 0.08333333 0.07692308]\n",
            " [0.2        0.16666667 0.14285714 0.125      0.11111111 0.1\n",
            "  0.09090909 0.08333333 0.07692308 0.07142857]\n",
            " [0.16666667 0.14285714 0.125      0.11111111 0.1        0.09090909\n",
            "  0.08333333 0.07692308 0.07142857 0.06666667]\n",
            " [0.14285714 0.125      0.11111111 0.1        0.09090909 0.08333333\n",
            "  0.07692308 0.07142857 0.06666667 0.0625    ]\n",
            " [0.125      0.11111111 0.1        0.09090909 0.08333333 0.07692308\n",
            "  0.07142857 0.06666667 0.0625     0.05882353]\n",
            " [0.11111111 0.1        0.09090909 0.08333333 0.07692308 0.07142857\n",
            "  0.06666667 0.0625     0.05882353 0.05555556]\n",
            " [0.1        0.09090909 0.08333333 0.07692308 0.07142857 0.06666667\n",
            "  0.0625     0.05882353 0.05555556 0.05263158]]\n",
            "1.602442e+13\n",
            "Expected Rounding Error: 0.001\n"
          ]
        }
      ]
    },
    {
      "cell_type": "markdown",
      "source": [
        "d. **15×15  Hilbert matrix**"
      ],
      "metadata": {
        "id": "Js_zhbnJrVjT"
      },
      "id": "Js_zhbnJrVjT"
    },
    {
      "cell_type": "code",
      "source": [
        "import numpy as np\n",
        "N=15\n",
        "H=np.zeros((N,N))\n",
        "for i in range(0,N):\n",
        "    for j in range(0,N):\n",
        "        H[i,j]=1/(i+j+1)\n",
        "print(H)\n",
        "print('{:e}'.format(np.linalg.cond(H)))\n",
        "print('Expected Rounding Error:',10**(17-16))"
      ],
      "metadata": {
        "colab": {
          "base_uri": "https://localhost:8080/"
        },
        "id": "jdX4ncHdraw8",
        "outputId": "c83e3773-9569-4940-be8d-a57c0c726c46"
      },
      "id": "jdX4ncHdraw8",
      "execution_count": null,
      "outputs": [
        {
          "output_type": "stream",
          "name": "stdout",
          "text": [
            "[[1.         0.5        0.33333333 0.25       0.2        0.16666667\n",
            "  0.14285714 0.125      0.11111111 0.1        0.09090909 0.08333333\n",
            "  0.07692308 0.07142857 0.06666667]\n",
            " [0.5        0.33333333 0.25       0.2        0.16666667 0.14285714\n",
            "  0.125      0.11111111 0.1        0.09090909 0.08333333 0.07692308\n",
            "  0.07142857 0.06666667 0.0625    ]\n",
            " [0.33333333 0.25       0.2        0.16666667 0.14285714 0.125\n",
            "  0.11111111 0.1        0.09090909 0.08333333 0.07692308 0.07142857\n",
            "  0.06666667 0.0625     0.05882353]\n",
            " [0.25       0.2        0.16666667 0.14285714 0.125      0.11111111\n",
            "  0.1        0.09090909 0.08333333 0.07692308 0.07142857 0.06666667\n",
            "  0.0625     0.05882353 0.05555556]\n",
            " [0.2        0.16666667 0.14285714 0.125      0.11111111 0.1\n",
            "  0.09090909 0.08333333 0.07692308 0.07142857 0.06666667 0.0625\n",
            "  0.05882353 0.05555556 0.05263158]\n",
            " [0.16666667 0.14285714 0.125      0.11111111 0.1        0.09090909\n",
            "  0.08333333 0.07692308 0.07142857 0.06666667 0.0625     0.05882353\n",
            "  0.05555556 0.05263158 0.05      ]\n",
            " [0.14285714 0.125      0.11111111 0.1        0.09090909 0.08333333\n",
            "  0.07692308 0.07142857 0.06666667 0.0625     0.05882353 0.05555556\n",
            "  0.05263158 0.05       0.04761905]\n",
            " [0.125      0.11111111 0.1        0.09090909 0.08333333 0.07692308\n",
            "  0.07142857 0.06666667 0.0625     0.05882353 0.05555556 0.05263158\n",
            "  0.05       0.04761905 0.04545455]\n",
            " [0.11111111 0.1        0.09090909 0.08333333 0.07692308 0.07142857\n",
            "  0.06666667 0.0625     0.05882353 0.05555556 0.05263158 0.05\n",
            "  0.04761905 0.04545455 0.04347826]\n",
            " [0.1        0.09090909 0.08333333 0.07692308 0.07142857 0.06666667\n",
            "  0.0625     0.05882353 0.05555556 0.05263158 0.05       0.04761905\n",
            "  0.04545455 0.04347826 0.04166667]\n",
            " [0.09090909 0.08333333 0.07692308 0.07142857 0.06666667 0.0625\n",
            "  0.05882353 0.05555556 0.05263158 0.05       0.04761905 0.04545455\n",
            "  0.04347826 0.04166667 0.04      ]\n",
            " [0.08333333 0.07692308 0.07142857 0.06666667 0.0625     0.05882353\n",
            "  0.05555556 0.05263158 0.05       0.04761905 0.04545455 0.04347826\n",
            "  0.04166667 0.04       0.03846154]\n",
            " [0.07692308 0.07142857 0.06666667 0.0625     0.05882353 0.05555556\n",
            "  0.05263158 0.05       0.04761905 0.04545455 0.04347826 0.04166667\n",
            "  0.04       0.03846154 0.03703704]\n",
            " [0.07142857 0.06666667 0.0625     0.05882353 0.05555556 0.05263158\n",
            "  0.05       0.04761905 0.04545455 0.04347826 0.04166667 0.04\n",
            "  0.03846154 0.03703704 0.03571429]\n",
            " [0.06666667 0.0625     0.05882353 0.05555556 0.05263158 0.05\n",
            "  0.04761905 0.04545455 0.04347826 0.04166667 0.04       0.03846154\n",
            "  0.03703704 0.03571429 0.03448276]]\n",
            "3.674393e+17\n",
            "Expected Rounding Error: 10\n"
          ]
        }
      ]
    },
    {
      "cell_type": "markdown",
      "source": [
        "e. **20×20  Hilbert matrix**"
      ],
      "metadata": {
        "id": "yY87TA4dsca-"
      },
      "id": "yY87TA4dsca-"
    },
    {
      "cell_type": "code",
      "source": [
        "import numpy as np\n",
        "N=20\n",
        "H=np.zeros((N,N))\n",
        "for i in range(0,N):\n",
        "    for j in range(0,N):\n",
        "        H[i,j]=1/(i+j+1)\n",
        "print(H)\n",
        "print('{:e}'.format(np.linalg.cond(H)))\n",
        "print('Expected Rounding Error:',10**(18-16))"
      ],
      "metadata": {
        "colab": {
          "base_uri": "https://localhost:8080/"
        },
        "id": "nj9xA_DBspwd",
        "outputId": "6a1a6b19-b658-449a-8874-fda6c52d8cb7"
      },
      "id": "nj9xA_DBspwd",
      "execution_count": null,
      "outputs": [
        {
          "output_type": "stream",
          "name": "stdout",
          "text": [
            "[[1.         0.5        0.33333333 0.25       0.2        0.16666667\n",
            "  0.14285714 0.125      0.11111111 0.1        0.09090909 0.08333333\n",
            "  0.07692308 0.07142857 0.06666667 0.0625     0.05882353 0.05555556\n",
            "  0.05263158 0.05      ]\n",
            " [0.5        0.33333333 0.25       0.2        0.16666667 0.14285714\n",
            "  0.125      0.11111111 0.1        0.09090909 0.08333333 0.07692308\n",
            "  0.07142857 0.06666667 0.0625     0.05882353 0.05555556 0.05263158\n",
            "  0.05       0.04761905]\n",
            " [0.33333333 0.25       0.2        0.16666667 0.14285714 0.125\n",
            "  0.11111111 0.1        0.09090909 0.08333333 0.07692308 0.07142857\n",
            "  0.06666667 0.0625     0.05882353 0.05555556 0.05263158 0.05\n",
            "  0.04761905 0.04545455]\n",
            " [0.25       0.2        0.16666667 0.14285714 0.125      0.11111111\n",
            "  0.1        0.09090909 0.08333333 0.07692308 0.07142857 0.06666667\n",
            "  0.0625     0.05882353 0.05555556 0.05263158 0.05       0.04761905\n",
            "  0.04545455 0.04347826]\n",
            " [0.2        0.16666667 0.14285714 0.125      0.11111111 0.1\n",
            "  0.09090909 0.08333333 0.07692308 0.07142857 0.06666667 0.0625\n",
            "  0.05882353 0.05555556 0.05263158 0.05       0.04761905 0.04545455\n",
            "  0.04347826 0.04166667]\n",
            " [0.16666667 0.14285714 0.125      0.11111111 0.1        0.09090909\n",
            "  0.08333333 0.07692308 0.07142857 0.06666667 0.0625     0.05882353\n",
            "  0.05555556 0.05263158 0.05       0.04761905 0.04545455 0.04347826\n",
            "  0.04166667 0.04      ]\n",
            " [0.14285714 0.125      0.11111111 0.1        0.09090909 0.08333333\n",
            "  0.07692308 0.07142857 0.06666667 0.0625     0.05882353 0.05555556\n",
            "  0.05263158 0.05       0.04761905 0.04545455 0.04347826 0.04166667\n",
            "  0.04       0.03846154]\n",
            " [0.125      0.11111111 0.1        0.09090909 0.08333333 0.07692308\n",
            "  0.07142857 0.06666667 0.0625     0.05882353 0.05555556 0.05263158\n",
            "  0.05       0.04761905 0.04545455 0.04347826 0.04166667 0.04\n",
            "  0.03846154 0.03703704]\n",
            " [0.11111111 0.1        0.09090909 0.08333333 0.07692308 0.07142857\n",
            "  0.06666667 0.0625     0.05882353 0.05555556 0.05263158 0.05\n",
            "  0.04761905 0.04545455 0.04347826 0.04166667 0.04       0.03846154\n",
            "  0.03703704 0.03571429]\n",
            " [0.1        0.09090909 0.08333333 0.07692308 0.07142857 0.06666667\n",
            "  0.0625     0.05882353 0.05555556 0.05263158 0.05       0.04761905\n",
            "  0.04545455 0.04347826 0.04166667 0.04       0.03846154 0.03703704\n",
            "  0.03571429 0.03448276]\n",
            " [0.09090909 0.08333333 0.07692308 0.07142857 0.06666667 0.0625\n",
            "  0.05882353 0.05555556 0.05263158 0.05       0.04761905 0.04545455\n",
            "  0.04347826 0.04166667 0.04       0.03846154 0.03703704 0.03571429\n",
            "  0.03448276 0.03333333]\n",
            " [0.08333333 0.07692308 0.07142857 0.06666667 0.0625     0.05882353\n",
            "  0.05555556 0.05263158 0.05       0.04761905 0.04545455 0.04347826\n",
            "  0.04166667 0.04       0.03846154 0.03703704 0.03571429 0.03448276\n",
            "  0.03333333 0.03225806]\n",
            " [0.07692308 0.07142857 0.06666667 0.0625     0.05882353 0.05555556\n",
            "  0.05263158 0.05       0.04761905 0.04545455 0.04347826 0.04166667\n",
            "  0.04       0.03846154 0.03703704 0.03571429 0.03448276 0.03333333\n",
            "  0.03225806 0.03125   ]\n",
            " [0.07142857 0.06666667 0.0625     0.05882353 0.05555556 0.05263158\n",
            "  0.05       0.04761905 0.04545455 0.04347826 0.04166667 0.04\n",
            "  0.03846154 0.03703704 0.03571429 0.03448276 0.03333333 0.03225806\n",
            "  0.03125    0.03030303]\n",
            " [0.06666667 0.0625     0.05882353 0.05555556 0.05263158 0.05\n",
            "  0.04761905 0.04545455 0.04347826 0.04166667 0.04       0.03846154\n",
            "  0.03703704 0.03571429 0.03448276 0.03333333 0.03225806 0.03125\n",
            "  0.03030303 0.02941176]\n",
            " [0.0625     0.05882353 0.05555556 0.05263158 0.05       0.04761905\n",
            "  0.04545455 0.04347826 0.04166667 0.04       0.03846154 0.03703704\n",
            "  0.03571429 0.03448276 0.03333333 0.03225806 0.03125    0.03030303\n",
            "  0.02941176 0.02857143]\n",
            " [0.05882353 0.05555556 0.05263158 0.05       0.04761905 0.04545455\n",
            "  0.04347826 0.04166667 0.04       0.03846154 0.03703704 0.03571429\n",
            "  0.03448276 0.03333333 0.03225806 0.03125    0.03030303 0.02941176\n",
            "  0.02857143 0.02777778]\n",
            " [0.05555556 0.05263158 0.05       0.04761905 0.04545455 0.04347826\n",
            "  0.04166667 0.04       0.03846154 0.03703704 0.03571429 0.03448276\n",
            "  0.03333333 0.03225806 0.03125    0.03030303 0.02941176 0.02857143\n",
            "  0.02777778 0.02702703]\n",
            " [0.05263158 0.05       0.04761905 0.04545455 0.04347826 0.04166667\n",
            "  0.04       0.03846154 0.03703704 0.03571429 0.03448276 0.03333333\n",
            "  0.03225806 0.03125    0.03030303 0.02941176 0.02857143 0.02777778\n",
            "  0.02702703 0.02631579]\n",
            " [0.05       0.04761905 0.04545455 0.04347826 0.04166667 0.04\n",
            "  0.03846154 0.03703704 0.03571429 0.03448276 0.03333333 0.03225806\n",
            "  0.03125    0.03030303 0.02941176 0.02857143 0.02777778 0.02702703\n",
            "  0.02631579 0.02564103]]\n",
            "1.355366e+18\n",
            "Expected Rounding Error: 100\n"
          ]
        }
      ]
    },
    {
      "cell_type": "markdown",
      "id": "162b7f8b",
      "metadata": {
        "id": "162b7f8b"
      },
      "source": [
        "## Problems [Part 2](./02_Gauss_elimination.md)\n",
        "\n",
        "1. 4 masses are connected in series to 4 springs with K=100N/m. What are the final positions of the masses? \n",
        "\n",
        "![Springs-masses](../images/mass_springs.png)\n",
        "\n",
        "The masses haves the following amounts, 1, 2, 3, and 4 kg for masses 1-4. Using a FBD for each mass:\n",
        "\n",
        "$m_{1}g+k(x_{2}-x_{1})-kx_{1}=0$\n",
        "\n",
        "$m_{2}g+k(x_{3}-x_{2})-k(x_{2}-x_{1})=0$\n",
        "\n",
        "$m_{3}g+k(x_{4}-x_{3})-k(x_{3}-x_{2})=0$\n",
        "\n",
        "$m_{4}g-k(x_{4}-x_{3})=0$\n",
        "\n",
        "in matrix form K=100 N/m:\n",
        "\n",
        "$\\left[ \\begin{array}{cccc}\n",
        "2k & -k & 0 & 0 \\\\\n",
        "-k & 2k & -k & 0 \\\\\n",
        "0 & -k & 2k & -k \\\\\n",
        "0 & 0 & -k & k \\end{array} \\right]\n",
        "\\left[ \\begin{array}{c}\n",
        "x_{1} \\\\\n",
        "x_{2} \\\\\n",
        "x_{3} \\\\\n",
        "x_{4} \\end{array} \\right]=\n",
        "\\left[ \\begin{array}{c}\n",
        "m_{1}g \\\\\n",
        "m_{2}g \\\\\n",
        "m_{3}g \\\\\n",
        "m_{4}g \\end{array} \\right]$"
      ]
    },
    {
      "cell_type": "code",
      "execution_count": null,
      "id": "69068a82",
      "metadata": {
        "id": "69068a82",
        "colab": {
          "base_uri": "https://localhost:8080/"
        },
        "outputId": "87540cc3-9377-45ca-a2a0-8c0ea230a1f3"
      },
      "outputs": [
        {
          "output_type": "stream",
          "name": "stdout",
          "text": [
            "[2000.0 -1000.0   0.0   0.0] * [0.01429] = [ 10.0]\n",
            "[-1000.0 2000.0 -1000.0   0.0] * [0.01857] = [ 20.0]\n",
            "[  0.0 -1000.0 2000.0 -1000.0] * [0.00286] = [ 30.0]\n",
            "[  0.0   0.0 -1000.0 -1000.0] * [-0.04286] = [ 40.0]\n"
          ]
        }
      ],
      "source": [
        "import numpy as np\n",
        "A=np.array([[2000,-1000,0,0],[-1000,2000,-1000,0],[0,-1000,2000,-1000],[0,0,-1000,-1000]])\n",
        "b=np.array([10,20,30,40])\n",
        "x=np.linalg.solve(A,b)\n",
        "for i in range(0,4):\n",
        "    print('[{:5.1f} {:5.1f} {:5.1f} {:5.1f}] {} [{:3.5f}] {} [{:5.1f}]'.format(*A[i],'*',x[i],'=',b[i]))"
      ]
    },
    {
      "cell_type": "markdown",
      "id": "f60b7666",
      "metadata": {
        "id": "f60b7666"
      },
      "source": [
        "![Triangular truss](../images/truss.png)\n",
        "\n",
        "For problems __2-3__, consider the simple 3-element triangular truss, shown above, with a point load applied at the tip. The goal is to understand what tension is in the horizontal element, $P_1$. In problem __2__, the applied force is verical $(\\theta=0)$ and in problem __3__ the applied force varies in angle $(\\theta \\neq 0)$. \n",
        "\n",
        "2. In the truss shown above, calculate the tension in bar 1, $P_1$, when $\\theta=0$. When $\\theta=0$, the $\\sum F=0$ at each corner creates 3 equations and 3 unknowns as such (here, you reduce the number of equations with symmetry, $P_2=P_3,~R_2=R_3,~and~R_1=0$ ). \n",
        "\n",
        "$\\left[ \\begin{array}{ccc}\n",
        "1 & \\cos\\alpha & 0 \\\\\n",
        "0 & -2\\cos\\beta/2 & 0 \\\\\n",
        "0 & \\sin\\alpha &  1 \\\\\n",
        " \\end{array} \\right]\n",
        "\\left[ \\begin{array}{c}\n",
        "P_{1} \\\\\n",
        "P_{2} \\\\\n",
        "R_{2} \\end{array} \\right]=\n",
        "\\left[ \\begin{array}{c}\n",
        "0 \\\\\n",
        "F \\\\\n",
        "0 \\end{array} \\right]$\n",
        "\n",
        "a. Create the system of equations, $\\mathbf{Ax}=\\mathbf{b}$, when $\\alpha=35^o$, $\\beta=40^o$, and $F=1~kN$. Use __Gauss elimination__ to solve for $P_1,~P_2,~and~R_2$. What is the resulting augmented matrix, $\\mathbf{A|y}$ after Gauss elimination?\n",
        "\n",
        "b. Solve for the $\\mathbf{LU}$ decomposition of $\\mathbf{A}$. \n",
        "\n",
        "c. Use the $\\mathbf{LU}$ solution to solve for the tension in bar 1 $(P_1)$ every 10 N values of force, F, between 100 N and 1100 N. Plot $P_1~vs~F$."
      ]
    },
    {
      "cell_type": "code",
      "execution_count": null,
      "id": "c0117e5c",
      "metadata": {
        "id": "c0117e5c"
      },
      "outputs": [],
      "source": [
        "def GaussNaive(A,y):\n",
        "    '''GaussNaive: naive Gauss elimination\n",
        "    x = GaussNaive(A,b): Gauss elimination without pivoting.\n",
        "    solution method requires floating point numbers, \n",
        "    as such the dtype is changed to float\n",
        "    \n",
        "    Arguments:\n",
        "    ----------\n",
        "    A = coefficient matrix\n",
        "    y = right hand side vector\n",
        "    returns:\n",
        "    ---------\n",
        "    x = solution vector\n",
        "    Aug = augmented matrix (used for back substitution)'''\n",
        "    [m,n] = np.shape(A)\n",
        "    Aug = np.block([A,y.reshape(n,1)])\n",
        "    Aug = Aug.astype(float)\n",
        "    if m!=n: error('Matrix A must be square')\n",
        "    nb = n+1\n",
        "    # Gauss Elimination \n",
        "    for k in range(0,n-1):\n",
        "        for i in range(k+1,n):\n",
        "            if Aug[i,k] != 0.0:\n",
        "                factor = Aug[i,k]/Aug[k,k]\n",
        "                Aug[i,:] = Aug[i,:] - factor*Aug[k,:]\n",
        "    # Back substitution\n",
        "    x=np.zeros(n)\n",
        "    for k in range(n-1,-1,-1):\n",
        "        x[k] = (Aug[k,-1] - Aug[k,k+1:n]@x[k+1:n])/Aug[k,k]\n",
        "    return x,Aug"
      ]
    },
    {
      "cell_type": "code",
      "source": [
        "import math\n",
        "\n",
        "sin35=math.sin(math.radians(35))\n",
        "cos35=math.cos(math.radians(35))\n",
        "cos20=math.cos(math.radians(20))\n",
        "\n",
        "A=np.array([[1,cos35, 0],[0,(-2*cos20),0],[ 0,sin35,1]])\n",
        "y=np.array([0,1000,0])\n",
        "Ay=np.array([[1,cos35, 0,0],[0,(-2*cos20),0,1000],[ 0,sin35,1,0]])\n",
        "\n",
        "x, Aug = GaussNaive(A,y)\n",
        "\n",
        "print('x=  \\t\\tAug=')\n",
        "for i in range(len(x)):\n",
        "    print('{:.2f}\\t\\t'.format(x[i]),Ay[i])"
      ],
      "metadata": {
        "colab": {
          "base_uri": "https://localhost:8080/"
        },
        "id": "aWMTsmHiBD8D",
        "outputId": "f0f1daa5-4037-4d57-a173-3d2f5632518c"
      },
      "id": "aWMTsmHiBD8D",
      "execution_count": null,
      "outputs": [
        {
          "output_type": "stream",
          "name": "stdout",
          "text": [
            "x=  \t\tAug=\n",
            "435.86\t\t [1.         0.81915204 0.         0.        ]\n",
            "-532.09\t\t [   0.           -1.87938524    0.         1000.        ]\n",
            "305.19\t\t [0.         0.57357644 1.         0.        ]\n"
          ]
        }
      ]
    },
    {
      "cell_type": "markdown",
      "source": [
        "**LU  decomposition of A**"
      ],
      "metadata": {
        "id": "0WIOAJ9U9-be"
      },
      "id": "0WIOAJ9U9-be"
    },
    {
      "cell_type": "code",
      "source": [
        "def LUNaive(A):\n",
        "    '''LUNaive: naive LU decomposition\n",
        "    L,U = LUNaive(A): LU decomposition without pivoting.\n",
        "    solution method requires floating point numbers, \n",
        "    as such the dtype is changed to float\n",
        "    \n",
        "    Arguments:\n",
        "    ----------\n",
        "    A = coefficient matrix\n",
        "    returns:\n",
        "    ---------\n",
        "    L = Lower triangular matrix\n",
        "    U = Upper triangular matrix\n",
        "    '''\n",
        "    [m,n] = np.shape(A)\n",
        "    if m!=n: error('Matrix A must be square')\n",
        "    nb = n+1\n",
        "    # Gauss Elimination\n",
        "    U = A.astype(float)\n",
        "    L = np.eye(n)\n",
        "\n",
        "    for k in range(0,n-1):\n",
        "        for i in range(k+1,n):\n",
        "            if U[k,k] != 0.0:\n",
        "                factor = U[i,k]/U[k,k]\n",
        "                L[i,k]=factor\n",
        "                U[i,:] = U[i,:] - factor*U[k,:]\n",
        "    return L,U"
      ],
      "metadata": {
        "id": "AIyQpn4998LH"
      },
      "id": "AIyQpn4998LH",
      "execution_count": null,
      "outputs": []
    },
    {
      "cell_type": "code",
      "source": [
        "l,u=LUNaive(A)\n",
        "print('L=',l)\n",
        "print('U=',u)"
      ],
      "metadata": {
        "colab": {
          "base_uri": "https://localhost:8080/"
        },
        "id": "uVMGvYYm-JkG",
        "outputId": "5d72ed85-3aae-4167-d695-00b930be585c"
      },
      "id": "uVMGvYYm-JkG",
      "execution_count": null,
      "outputs": [
        {
          "output_type": "stream",
          "name": "stdout",
          "text": [
            "L= [[ 1.          0.          0.        ]\n",
            " [ 0.          1.          0.        ]\n",
            " [ 0.         -0.30519365  1.        ]]\n",
            "U= [[ 1.          0.81915204  0.        ]\n",
            " [ 0.         -1.87938524  0.        ]\n",
            " [ 0.          0.          1.        ]]\n"
          ]
        }
      ]
    },
    {
      "cell_type": "markdown",
      "source": [
        "**LU decomposition of A using in-built function**"
      ],
      "metadata": {
        "id": "NIf2F3rw_Pud"
      },
      "id": "NIf2F3rw_Pud"
    },
    {
      "cell_type": "code",
      "source": [
        "from scipy.linalg import lu\n",
        "p,l,u=lu(A)\n",
        "print(l)\n",
        "print(u)"
      ],
      "metadata": {
        "colab": {
          "base_uri": "https://localhost:8080/"
        },
        "id": "hSZPnhGD_Chg",
        "outputId": "aa6ec099-6111-4b14-fcad-2ed046225e50"
      },
      "id": "hSZPnhGD_Chg",
      "execution_count": null,
      "outputs": [
        {
          "output_type": "stream",
          "name": "stdout",
          "text": [
            "[[ 1.          0.          0.          0.        ]\n",
            " [-0.5         1.          0.          0.        ]\n",
            " [ 0.         -0.66666667  1.          0.        ]\n",
            " [ 0.          0.         -0.75        1.        ]]\n",
            "[[ 2000.         -1000.             0.             0.        ]\n",
            " [    0.          1500.         -1000.             0.        ]\n",
            " [    0.             0.          1333.33333333 -1000.        ]\n",
            " [    0.             0.             0.         -1750.        ]]\n"
          ]
        }
      ]
    },
    {
      "cell_type": "markdown",
      "id": "14311c17",
      "metadata": {
        "id": "14311c17"
      },
      "source": [
        "3. Using the same truss as shown above, let's calculate the tension in bar 1, $P_1$, when $\\theta=[0...90^o]$ and $F=[100...1100]~kN$. When $\\theta\\neq 0$, the resulting 6 equations and 6 unknowns are given in the following matrix\n",
        "\n",
        "$\\left[ \\begin{array}{ccc}\n",
        "0 & \\sin\\alpha & 0 & 1 & 0 & 0 \\\\\n",
        "1 & \\cos\\alpha & 0 & 0 & 1 & 0 \\\\\n",
        "0 & \\cos\\beta/2 & \\cos\\beta/2 & 0 & 0 & 0 \\\\\n",
        "0 & -\\sin\\beta/2 & \\sin\\beta/2 & 0 & 0 & 0 \\\\\n",
        "-1 & 0 & \\cos\\alpha & 0 & 0 & 0 \\\\\n",
        "0 & 0 & \\sin\\alpha & 0 & 0 & 1 \\\\\n",
        " \\end{array} \\right]\n",
        "\\left[ \\begin{array}{c}\n",
        "P_{1} \\\\\n",
        "P_{2} \\\\\n",
        "P_{3} \\\\\n",
        "R_{1} \\\\\n",
        "R_{2} \\\\\n",
        "R_{3}\\end{array} \\right]=\n",
        "\\left[ \\begin{array}{c}\n",
        "0 \\\\\n",
        "0 \\\\\n",
        "F\\cos\\theta \\\\\n",
        "-F\\sin\\theta \\\\\n",
        "0 \\\\\n",
        "0 \\end{array} \\right]$\n",
        "\n",
        "a. Create the system of equations, $\\mathbf{Ax}=\\mathbf{b}$, when $\\alpha=35^o$, $\\beta=40^o$, $\\theta=45^o=\\pi/4$, and $F=1~kN$. Use __Gauss elimination__ to solve for $P_1,~P_2,~P_3,~R_1,~R_2,~and~R_3$. What is the resulting augmented matrix, $\\mathbf{A|y}$ after Gauss elimination? _Hint: do you see a problem with the order of the equations? How can you __pivot__ to fix it?_\n",
        "\n",
        "b. Solve for the $\\mathbf{PLU}$ decomposition of $\\mathbf{A}$. \n",
        "\n",
        "c. Use the $\\mathbf{PLU}$ solution to solve for the tension in bar 1 $(P_1)$ every 10 N values of force, F, between 100 N and 1100 N. Plot $P_1~vs~F$."
      ]
    },
    {
      "cell_type": "code",
      "execution_count": null,
      "id": "8c3fca1b",
      "metadata": {
        "id": "8c3fca1b",
        "colab": {
          "base_uri": "https://localhost:8080/"
        },
        "outputId": "db2c97ab-1658-4559-b75d-7feb45f1c824"
      },
      "outputs": [
        {
          "output_type": "stream",
          "name": "stdout",
          "text": [
            "x=\t\tAug=\n",
            "nan [0.         0.57357644 0.         1.         0.         0.\n",
            " 0.        ]\n",
            "nan [ nan -inf  nan -inf  nan  nan  nan]\n",
            "nan [nan nan nan nan nan nan nan]\n",
            "nan [nan nan nan nan nan nan nan]\n",
            "nan [nan nan nan nan nan nan nan]\n",
            "nan [nan nan nan nan nan nan nan]\n"
          ]
        },
        {
          "output_type": "stream",
          "name": "stderr",
          "text": [
            "/usr/local/lib/python3.7/dist-packages/ipykernel_launcher.py:24: RuntimeWarning: divide by zero encountered in double_scalars\n",
            "/usr/local/lib/python3.7/dist-packages/ipykernel_launcher.py:25: RuntimeWarning: invalid value encountered in multiply\n",
            "/usr/local/lib/python3.7/dist-packages/ipykernel_launcher.py:24: RuntimeWarning: invalid value encountered in double_scalars\n"
          ]
        }
      ],
      "source": [
        "import math\n",
        "\n",
        "sin35=math.sin(math.radians(35))\n",
        "cos35=math.cos(math.radians(35))\n",
        "cos20=math.cos(math.radians(20))\n",
        "sin20=math.sin(math.radians(20))\n",
        "cost=math.cos(math.radians(45))\n",
        "sint=math.sin(math.radians(45))\n",
        "\n",
        "A=np.array([[0,sin35, 0,1,0,0],[1,cos35,0,0,1,0],[0,cos20,cos20,0,0,0],[0,-sin20,sin20,0,0,0],[-1,0,cos35,0,0,0],[0,0,sin35,0,0,1]])\n",
        "y=np.array([0,0,(1000*cost),(-1000*sint),0,0])\n",
        "\n",
        "x, Aug = GaussNaive(A,y)\n",
        "\n",
        "print('x=\\t\\tAug=')\n",
        "for i in range(len(x)):\n",
        "    print('{:.2f}'.format(x[i]),Aug[i])"
      ]
    },
    {
      "cell_type": "markdown",
      "source": [
        "**Apply Partial pivoting** : Swap the Row 1 and Row 2 "
      ],
      "metadata": {
        "id": "MFx8e-dtw-qo"
      },
      "id": "MFx8e-dtw-qo"
    },
    {
      "cell_type": "code",
      "source": [
        "import math\n",
        "\n",
        "sin35=math.sin(math.radians(35))\n",
        "cos35=math.cos(math.radians(35))\n",
        "cos20=math.cos(math.radians(20))\n",
        "sin20=math.sin(math.radians(20))\n",
        "cost=math.cos(math.radians(45))\n",
        "sint=math.sin(math.radians(45))\n",
        "\n",
        "A=np.array([[1,cos35,0,0,1,0],[0,sin35, 0,1,0,0],[0,cos20,cos20,0,0,0],[0,-sin20,sin20,0,0,0],[-1,0,cos35,0,0,0],[0,0,sin35,0,0,1]])\n",
        "y=np.array([0,0,(1000*cost),(-1000*sint),0,0])\n",
        "\n",
        "x, Aug = GaussNaive(A,y)\n",
        "\n",
        "print('x=  \\t\\tAug=')\n",
        "for i in range(len(x)):\n",
        "    print('{:.2f}\\t\\t'.format(x[i]),Aug[i])"
      ],
      "metadata": {
        "colab": {
          "base_uri": "https://localhost:8080/"
        },
        "id": "Qdg1xWLyxIBD",
        "outputId": "bab8c97c-4669-4d64-ecb3-28eac5d3ff80"
      },
      "id": "Qdg1xWLyxIBD",
      "execution_count": null,
      "outputs": [
        {
          "output_type": "stream",
          "name": "stdout",
          "text": [
            "x=  \t\tAug=\n",
            "-538.57\t\t [1.         0.81915204 0.         0.         1.         0.\n",
            " 0.        ]\n",
            "1409.96\t\t [0.         0.57357644 0.         1.         0.         0.\n",
            " 0.        ]\n",
            "-657.48\t\t [  0.           0.           0.93969262  -1.63830409   0.\n",
            "   0.         707.10678119]\n",
            "-808.72\t\t [   0.            0.            0.            1.19258785    0.\n",
            "    0.         -964.47260199]\n",
            "-616.40\t\t [   0.            0.            0.            0.            1.\n",
            "    0.         -616.40152591]\n",
            "377.11\t\t [  0.          0.          0.          0.          0.          1.\n",
            " 377.1134864]\n"
          ]
        }
      ]
    },
    {
      "cell_type": "markdown",
      "source": [
        "**PLU  decomposition of A**"
      ],
      "metadata": {
        "id": "DFIZUk2B2MMp"
      },
      "id": "DFIZUk2B2MMp"
    },
    {
      "cell_type": "code",
      "source": [
        "from scipy.linalg import lu\n",
        "\n",
        "P,L,U = lu(A) # a built-in partial-pivoting LU decomposition function\n",
        "print('P=\\n',P)\n",
        "print('L=\\n',L)\n",
        "print('U=\\n',U)"
      ],
      "metadata": {
        "colab": {
          "base_uri": "https://localhost:8080/"
        },
        "id": "0tu15k3-2s-e",
        "outputId": "b2e2a5c4-69fd-474a-f650-0191f77d0b74"
      },
      "id": "0tu15k3-2s-e",
      "execution_count": null,
      "outputs": [
        {
          "output_type": "stream",
          "name": "stdout",
          "text": [
            "P=\n",
            " [[1. 0. 0. 0. 0. 0.]\n",
            " [0. 0. 0. 1. 0. 0.]\n",
            " [0. 1. 0. 0. 0. 0.]\n",
            " [0. 0. 1. 0. 0. 0.]\n",
            " [0. 0. 0. 0. 1. 0.]\n",
            " [0. 0. 0. 0. 0. 1.]]\n",
            "L=\n",
            " [[ 1.          0.          0.          0.          0.          0.        ]\n",
            " [ 0.          1.          0.          0.          0.          0.        ]\n",
            " [ 0.         -0.36397023  1.          0.          0.          0.        ]\n",
            " [ 0.          0.61038729 -0.83851265  1.          0.          0.        ]\n",
            " [-1.          0.8717234   0.          0.          1.          0.        ]\n",
            " [ 0.          0.          0.83851265  0.          0.          1.        ]]\n",
            "U=\n",
            " [[1.         0.81915204 0.         0.         1.         0.        ]\n",
            " [0.         0.93969262 0.93969262 0.         0.         0.        ]\n",
            " [0.         0.         0.68404029 0.         0.         0.        ]\n",
            " [0.         0.         0.         1.         0.         0.        ]\n",
            " [0.         0.         0.         0.         1.         0.        ]\n",
            " [0.         0.         0.         0.         0.         1.        ]]\n"
          ]
        }
      ]
    },
    {
      "cell_type": "code",
      "source": [
        "from scipy.linalg import lu\n",
        "\n",
        "def solveLU(L,U,b):\n",
        "    '''solveLU: solve for x when LUx = b\n",
        "    x = solveLU(L,U,b): solves for x given the lower and upper \n",
        "    triangular matrix storage\n",
        "    uses forward substitution for \n",
        "    1. Ly = b\n",
        "    then backward substitution for\n",
        "    2. Ux = y\n",
        "    \n",
        "    Arguments:\n",
        "    ----------\n",
        "    L = Lower triangular matrix\n",
        "    U = Upper triangular matrix\n",
        "    b = output vector\n",
        "    \n",
        "    returns:\n",
        "    ---------\n",
        "    x = solution of LUx=b '''\n",
        "    n=len(b)\n",
        "    x=np.zeros(n)\n",
        "    y=np.zeros(n)\n",
        "        \n",
        "    # forward substitution\n",
        "    for k in range(0,n):\n",
        "        y[k] = b[k] - L[k,0:k]@y[0:k]\n",
        "    # backward substitution\n",
        "    for k in range(n-1,-1,-1):\n",
        "        x[k] = (y[k] - U[k,k+1:n]@x[k+1:n])/U[k,k]\n",
        "    return x\n",
        "\n",
        "answer=solveLU(L,U,P.T@y)\n",
        "print(answer)"
      ],
      "metadata": {
        "colab": {
          "base_uri": "https://localhost:8080/"
        },
        "id": "iXUTefd6W1ko",
        "outputId": "a65fede4-2805-46d6-f263-4d50775fab6b"
      },
      "id": "iXUTefd6W1ko",
      "execution_count": null,
      "outputs": [
        {
          "output_type": "stream",
          "name": "stdout",
          "text": [
            "[-538.57387392 1409.96461876 -657.47729946 -808.72248141 -616.40152591\n",
            "  377.1134864 ]\n"
          ]
        }
      ]
    },
    {
      "cell_type": "markdown",
      "id": "d6c92411",
      "metadata": {
        "id": "d6c92411"
      },
      "source": [
        "## Problems [Part 3](./03_Linear-regression-algebra.md)\n",
        "\n",
        "<img\n",
        "src=\"https://i.imgur.com/LoBbHaM.png\" alt=\"prony series diagram\"\n",
        "style=\"width: 300px;\"/> <img src=\"https://i.imgur.com/8i140Zu.png\" alt\n",
        "= \"stress relax data\" style=\"width: 400px;\"/> \n",
        "\n",
        "Viscoelastic Prony series model and stress-vs-time relaxation curve of wheat kernels [[3]](https://www.cerealsgrains.org/publications/plexus/cfw/pastissues/2013/Documents/CFW-58-3-0139.pdf). Stress relaxation curve of a wheat kernel from regressed equation data that illustrate where to locate relaxation times (vertical dotted lines) and stresses (horizontal black marks). $\\sigma$ = stress; t = time.\n",
        "\n",
        "2. [Viscoelasticity](https://en.wikipedia.org/wiki/Viscoelasticity) is a property of materials that exhibit stiffness, but also tend to flow slowly. One example is [Silly Putty](https://en.wikipedia.org/wiki/Silly_Putty), when you throw a lump it bounces, but if you leave it on a table it _creeps_, slowly flowing downwards. In the stress-vs-time plot above, a wheat kernel was placed under constant strain and the stress was recorded. In a purely elastic material, the stress would be constant. In a purely viscous material, the stress would decay to 0 MPa. \n",
        "\n",
        "Here, you have a viscoelastic material, so there is some residual elastic stress as $t\\rightarrow \\infty$. The researchers used a 4-part [Prony series](https://en.wikipedia.org/wiki/Prony%27s_method) to model viscoelasticity. The function they fit was\n",
        "\n",
        "$\\sigma(t) = a_1 e^{-t/1.78}+a_2 e^{-t/11}+a_3e^{-t/53}+a_4e^{-t/411}+a_5$\n",
        "\n",
        "a. Load the data from the graph shown above in the file `../data/stress_relax.dat`. \n",
        "\n",
        "b. Create a $\\mathbf{Z}$-matrix to perform the least-squares regression for the given Prony series equation $\\mathbf{y} = \\mathbf{Za}$.\n",
        "\n",
        "c. Solve for the constants, $a_1,~a_2,~a_3,~a_4~,a_5$\n",
        "\n",
        "d. Plot the best-fit function and the data from `../data/stress_relax.dat` _Use at least 50 points in time to get a smooth best-fit line._"
      ]
    },
    {
      "cell_type": "code",
      "execution_count": null,
      "id": "bbf34d9e",
      "metadata": {
        "id": "bbf34d9e",
        "colab": {
          "base_uri": "https://localhost:8080/",
          "height": 321
        },
        "outputId": "cf9a2ad7-d20d-4455-e25f-26865f94bc5b"
      },
      "outputs": [
        {
          "output_type": "execute_result",
          "data": {
            "text/plain": [
              "Text(0, 0.5, 'Stress')"
            ]
          },
          "metadata": {},
          "execution_count": 25
        },
        {
          "output_type": "display_data",
          "data": {
            "text/plain": [
              "<Figure size 432x288 with 1 Axes>"
            ],
            "image/png": "[encoded data removed]"
          },
          "metadata": {}
        }
      ],
      "source": [
        "import numpy as np\n",
        "import pandas as pd\n",
        "import matplotlib.pyplot as plt\n",
        "plt.style.use('fivethirtyeight')\n",
        "\n",
        "xy_data = np.loadtxt('stress_relax.dat',delimiter=',')\n",
        "x=xy_data[:,0];\n",
        "y=xy_data[:,1];\n",
        "plt.plot(x,y,'o')\n",
        "plt.xlabel('Time')\n",
        "plt.ylabel('Stress')"
      ]
    },
    {
      "cell_type": "code",
      "source": [
        "input_array=np.array(x)\n",
        "Z=np.block([[np.exp(input_array/-1.78)],[np.exp(input_array/-11)],[np.exp(input_array/-53)],[np.exp(input_array/-411)],[np.exp(input_array*0/1)]]).T\n",
        "Z\n"
      ],
      "metadata": {
        "colab": {
          "base_uri": "https://localhost:8080/"
        },
        "id": "zGp-4IbQQp1e",
        "outputId": "bce9e9cb-45cd-4db4-ad21-a9570ff093e6"
      },
      "id": "zGp-4IbQQp1e",
      "execution_count": null,
      "outputs": [
        {
          "output_type": "execute_result",
          "data": {
            "text/plain": [
              "array([[1.00000000e+000, 1.00000000e+000, 1.00000000e+000,\n",
              "        1.00000000e+000, 1.00000000e+000],\n",
              "       [5.63132906e-001, 9.11264203e-001, 9.80898998e-001,\n",
              "        9.97516115e-001, 1.00000000e+000],\n",
              "       [1.78579958e-001, 7.56716024e-001, 9.43784569e-001,\n",
              "        9.92566840e-001, 1.00000000e+000],\n",
              "       [1.78579958e-001, 7.56716024e-001, 9.43784569e-001,\n",
              "        9.92566840e-001, 1.00000000e+000],\n",
              "       [5.66310388e-002, 6.28378838e-001, 9.08074445e-001,\n",
              "        9.87642121e-001, 1.00000000e+000],\n",
              "       [5.66310388e-002, 6.28378838e-001, 9.08074445e-001,\n",
              "        9.87642121e-001, 1.00000000e+000],\n",
              "       [5.72719240e-004, 2.98796862e-001, 7.78243999e-001,\n",
              "        9.68186381e-001, 1.00000000e+000],\n",
              "       [1.82644756e-005, 1.71096803e-001, 6.93204742e-001,\n",
              "        9.53846507e-001, 1.00000000e+000],\n",
              "       [3.29858112e-008, 6.15643510e-002, 5.60697634e-001,\n",
              "        9.28106088e-001, 1.00000000e+000],\n",
              "       [1.88916087e-011, 1.83952349e-002, 4.36359569e-001,\n",
              "        8.98579674e-001, 1.00000000e+000],\n",
              "       [6.05867977e-014, 7.26354179e-003, 3.59821750e-001,\n",
              "        8.76507825e-001, 1.00000000e+000],\n",
              "       [6.37339156e-023, 2.56061100e-004, 1.79705712e-001,\n",
              "        8.01443560e-001, 1.00000000e+000],\n",
              "       [6.70445074e-032, 9.02690294e-006, 8.97503910e-002,\n",
              "        7.32807809e-001, 1.00000000e+000],\n",
              "       [4.03922067e-044, 9.50845536e-008, 3.48840257e-002,\n",
              "        6.48733319e-001, 1.00000000e+000],\n",
              "       [1.33988761e-052, 4.03660746e-009, 1.81072495e-002,\n",
              "        5.96133472e-001, 1.00000000e+000],\n",
              "       [2.53126325e-063, 7.42543424e-011, 7.90127157e-003,\n",
              "        5.35673421e-001, 1.00000000e+000],\n",
              "       [8.78328723e-080, 1.61155944e-013, 2.21258611e-003,\n",
              "        4.54584753e-001, 1.00000000e+000],\n",
              "       [5.29165426e-092, 1.69753027e-015, 8.59984117e-004,\n",
              "        4.02430585e-001, 1.00000000e+000],\n",
              "       [3.24232619e-107, 5.86300748e-018, 2.65199175e-004,\n",
              "        3.45784995e-001, 1.00000000e+000],\n",
              "       [1.11874950e-122, 1.84530297e-020, 8.02191762e-005,\n",
              "        2.96374768e-001, 1.00000000e+000],\n",
              "       [7.09022198e-144, 6.85226335e-024, 1.55719469e-005,\n",
              "        2.39902342e-001, 1.00000000e+000],\n",
              "       [2.27388705e-146, 2.70568446e-024, 1.28406150e-005,\n",
              "        2.34009611e-001, 1.00000000e+000]])"
            ]
          },
          "metadata": {},
          "execution_count": 20
        }
      ]
    },
    {
      "cell_type": "code",
      "source": [
        "a=np.linalg.solve(Z.T@Z,Z.T@y)\n",
        "a"
      ],
      "metadata": {
        "colab": {
          "base_uri": "https://localhost:8080/"
        },
        "id": "UpNxMvfAXBz3",
        "outputId": "9ae6d021-79b8-4f38-a306-c143805ed4ff"
      },
      "id": "UpNxMvfAXBz3",
      "execution_count": null,
      "outputs": [
        {
          "output_type": "execute_result",
          "data": {
            "text/plain": [
              "array([ 1.90175278,  3.27373692,  1.05968924,  2.27846985, 30.55405629])"
            ]
          },
          "metadata": {},
          "execution_count": 23
        }
      ]
    },
    {
      "cell_type": "code",
      "source": [
        "x_fcn=np.linspace(min(x),max(x));\n",
        "plt.plot(x,y,'o',label='data')\n",
        "plt.plot(x,Z@a,label='quadratic fit')\n",
        "plt.xlabel('x')\n",
        "plt.ylabel('y')\n",
        "plt.legend();"
      ],
      "metadata": {
        "colab": {
          "base_uri": "https://localhost:8080/",
          "height": 304
        },
        "id": "MnmQ0QXpXzIc",
        "outputId": "74f94a78-8eb5-4805-c606-00813ce0acf7"
      },
      "id": "MnmQ0QXpXzIc",
      "execution_count": null,
      "outputs": [
        {
          "output_type": "display_data",
          "data": {
            "text/plain": [
              "<Figure size 432x288 with 1 Axes>"
            ],
            "image/png": "[encoded data removed]"
          },
          "metadata": {}
        }
      ]
    },
    {
      "cell_type": "markdown",
      "id": "5df945da",
      "metadata": {
        "id": "5df945da"
      },
      "source": [
        "3. Load the '../data/primary-energy-consumption-by-region.csv' that has the energy consumption of different regions of the world from 1965 until 2018 [Our world in Data](https://ourworldindata.org/energy). \n",
        "You are going to compare the energy consumption of the United States to all of Europe. Load the data into a pandas dataframe. *Note: you can get certain rows of the data frame by specifying what you're looking for e.g. \n",
        "`EUR = dataframe[dataframe['Entity']=='Europe']` will give us all the rows from Europe's energy consumption.*\n",
        "\n",
        "a. Use a piecewise least-squares regression to find a function for the energy consumption as a function of year\n",
        "\n",
        "energy consumed = $f(t) = At+B+C(t-1970)H(t-1970)$\n",
        "\n",
        "c. What is your prediction for US energy use in 2025? How about European energy use in 2025?"
      ]
    },
    {
      "cell_type": "code",
      "execution_count": null,
      "id": "b7c40221",
      "metadata": {
        "id": "b7c40221",
        "colab": {
          "base_uri": "https://localhost:8080/"
        },
        "outputId": "aff89b8d-738a-4c52-cf9b-0dc6eafb20b3"
      },
      "outputs": [
        {
          "output_type": "execute_result",
          "data": {
            "text/plain": [
              "array([[1965,    1,    0],\n",
              "       [1966,    1,    0],\n",
              "       [1967,    1,    0],\n",
              "       [1968,    1,    0],\n",
              "       [1969,    1,    0],\n",
              "       [1970,    1,    0],\n",
              "       [1971,    1,    1],\n",
              "       [1972,    1,    2],\n",
              "       [1973,    1,    3],\n",
              "       [1974,    1,    4],\n",
              "       [1975,    1,    5],\n",
              "       [1976,    1,    6],\n",
              "       [1977,    1,    7],\n",
              "       [1978,    1,    8],\n",
              "       [1979,    1,    9],\n",
              "       [1980,    1,   10],\n",
              "       [1981,    1,   11],\n",
              "       [1982,    1,   12],\n",
              "       [1983,    1,   13],\n",
              "       [1984,    1,   14],\n",
              "       [1985,    1,   15],\n",
              "       [1986,    1,   16],\n",
              "       [1987,    1,   17],\n",
              "       [1988,    1,   18],\n",
              "       [1989,    1,   19],\n",
              "       [1990,    1,   20],\n",
              "       [1991,    1,   21],\n",
              "       [1992,    1,   22],\n",
              "       [1993,    1,   23],\n",
              "       [1994,    1,   24],\n",
              "       [1995,    1,   25],\n",
              "       [1996,    1,   26],\n",
              "       [1997,    1,   27],\n",
              "       [1998,    1,   28],\n",
              "       [1999,    1,   29],\n",
              "       [2000,    1,   30],\n",
              "       [2001,    1,   31],\n",
              "       [2002,    1,   32],\n",
              "       [2003,    1,   33],\n",
              "       [2004,    1,   34],\n",
              "       [2005,    1,   35],\n",
              "       [2006,    1,   36],\n",
              "       [2007,    1,   37],\n",
              "       [2008,    1,   38],\n",
              "       [2009,    1,   39],\n",
              "       [2010,    1,   40],\n",
              "       [2011,    1,   41],\n",
              "       [2012,    1,   42],\n",
              "       [2013,    1,   43],\n",
              "       [2014,    1,   44],\n",
              "       [2015,    1,   45],\n",
              "       [2016,    1,   46],\n",
              "       [2017,    1,   47],\n",
              "       [2018,    1,   48]])"
            ]
          },
          "metadata": {},
          "execution_count": 36
        }
      ],
      "source": [
        "\n",
        "fname = 'primary-energy-consumption-by-region.csv'\n",
        "\n",
        "dataframe = pd.read_csv(fname)\n",
        "temp_data=dataframe[dataframe['Entity']=='Europe']\n",
        "t = temp_data['Year'].values\n",
        "T = temp_data['Primary Energy Consumption (terawatt-hours)'].values\n",
        "\n",
        "Z= np.block([[t],[t**0],[(t-1970)*(t>=1970)]]).T\n",
        "Z"
      ]
    },
    {
      "cell_type": "code",
      "source": [
        "fit = np.linalg.solve(Z.T@Z,Z.T@T)\n",
        "\n",
        "plt.plot(t,T,'o-',label='measured anomoly')\n",
        "plt.plot(t,Z@fit,label='piece-wise best-fit')\n",
        "plt.title('Piecewise fit to temperature anomoly')\n",
        "plt.legend();"
      ],
      "metadata": {
        "colab": {
          "base_uri": "https://localhost:8080/",
          "height": 303
        },
        "id": "khP_dYfJh7cW",
        "outputId": "9720fbab-27b9-4069-a3d5-7bbc07868593"
      },
      "id": "khP_dYfJh7cW",
      "execution_count": null,
      "outputs": [
        {
          "output_type": "display_data",
          "data": {
            "text/plain": [
              "<Figure size 432x288 with 1 Axes>"
            ],
            "image/png": "[encoded data removed]"
          },
          "metadata": {}
        }
      ]
    }
  ],
  "metadata": {
    "jupytext": {
      "formats": "notebooks//ipynb,md:myst"
    },
    "kernelspec": {
      "display_name": "Python 3 (ipykernel)",
      "language": "python",
      "name": "python3"
    },
    "language_info": {
      "codemirror_mode": {
        "name": "ipython",
        "version": 3
      },
      "file_extension": ".py",
      "mimetype": "text/x-python",
      "name": "python",
      "nbconvert_exporter": "python",
      "pygments_lexer": "ipython3",
      "version": "3.9.6"
    },
    "colab": {
      "name": "HW_04.ipynb",
      "provenance": [],
      "collapsed_sections": [],
      "include_colab_link": true
    }
  },
  "nbformat": 4,
  "nbformat_minor": 5
}